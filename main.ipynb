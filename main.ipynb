{
 "cells": [
  {
   "cell_type": "code",
   "metadata": {
    "ExecuteTime": {
     "end_time": "2025-03-17T09:39:35.044727Z",
     "start_time": "2025-03-17T09:39:34.571378Z"
    }
   },
   "source": [
    "import numpy as np\n",
    "import scipy as sp\n",
    "import matplotlib.pyplot as plt\n",
    "import random\n",
    "import cmath\n",
    "import math"
   ],
   "outputs": [],
   "execution_count": 2
  },
  {
   "cell_type": "markdown",
   "metadata": {},
   "source": [
    "# Define our buildDataSet function here!"
   ]
  },
  {
   "cell_type": "code",
   "metadata": {
    "ExecuteTime": {
     "end_time": "2025-03-17T09:39:35.884056Z",
     "start_time": "2025-03-17T09:39:35.858765Z"
    }
   },
   "source": [
    "def buildDataSet(max_amplitude,min_sparsity,max_sparsity,vector_size,data_set_size):\n",
    "    sparse_data = np.zeros((vector_size,data_set_size)) # Initialize the sparse_data matrix\n",
    "\n",
    "    # Iterate over the columns of the sparse_data matrix to define the data samples\n",
    "    for i in range(data_set_size):\n",
    "        sparsity = random.randint(min_sparsity,max_sparsity)\n",
    "        indices = random.sample(range(vector_size),sparsity)\n",
    "        amps = random.sample(range(max_amplitude),sparsity)\n",
    "        sparse_data[indices,i] = amps\n",
    "    \n",
    "    # Define the DFT matrix and multiply our spare_data vectors with it to find dense data\n",
    "    DFT = sp.linalg.dft(vector_size)/np.sqrt(vector_size)\n",
    "    dense_data = DFT@sparse_data\n",
    "    return dense_data,sparse_data\n"
   ],
   "outputs": [],
   "execution_count": 3
  },
  {
   "cell_type": "markdown",
   "metadata": {},
   "source": [
    "## Build the dataset"
   ]
  },
  {
   "cell_type": "code",
   "metadata": {
    "ExecuteTime": {
     "end_time": "2025-03-17T09:56:30.106259Z",
     "start_time": "2025-03-17T09:56:30.060962Z"
    }
   },
   "source": [
    "max_amplitude = 10\n",
    "min_sparsity = 3\n",
    "max_sparsity = 5\n",
    "vector_size = 10\n",
    "data_set_size = 1000\n",
    "dense_data, sparse_data = buildDataSet(max_amplitude,min_sparsity,max_sparsity,vector_size,data_set_size)\n"
   ],
   "outputs": [],
   "execution_count": 31
  },
  {
   "cell_type": "markdown",
   "metadata": {},
   "source": [
    "## Test the dataset"
   ]
  },
  {
   "cell_type": "code",
   "metadata": {
    "ExecuteTime": {
     "end_time": "2025-03-17T09:56:31.229881Z",
     "start_time": "2025-03-17T09:56:31.214367Z"
    }
   },
   "source": [
    "DFT = sp.linalg.dft(vector_size)/np.sqrt(vector_size)\n",
    "iDFT = DFT.conj().T\n",
    "\n",
    "print(iDFT@dense_data)\n"
   ],
   "outputs": [
    {
     "name": "stdout",
     "output_type": "stream",
     "text": [
      "[[ 5.00000000e+00-2.23518715e-15j  4.00000000e+00-1.44313671e-15j\n",
      "   1.46764599e-16-1.25146474e-15j ...  3.78551504e-15-2.14895238e-15j\n",
      "   9.61767902e-17-1.02689549e-15j  9.14935862e-16-1.00383460e-15j]\n",
      " [-3.66898807e-16-2.07830942e-15j -1.53687865e-15-6.44429953e-16j\n",
      "  -1.07023427e-15-4.11940447e-16j ...  1.55355586e-15-2.25993198e-15j\n",
      "  -6.19915240e-16+3.54273213e-16j -1.27927433e-16-1.34832585e-15j]\n",
      " [-2.66453526e-15-8.85500009e-16j -1.57715381e-15+1.54853615e-16j\n",
      "  -1.09788433e-15-8.91815805e-16j ... -6.92830175e-16-9.38654217e-16j\n",
      "  -5.80339814e-16-4.28016803e-16j  2.00000000e+00-2.76901764e-16j]\n",
      " ...\n",
      " [ 8.00000000e+00+4.41185076e-16j  3.00000000e+00+8.42984995e-16j\n",
      "   7.00000000e+00+1.38572257e-16j ...  2.97660417e-16+4.09085237e-17j\n",
      "   4.00000000e+00-5.10851993e-17j  2.47059910e-16-4.61017022e-16j]\n",
      " [ 9.00000000e+00+1.12007387e-16j -2.05955365e-15+8.85248255e-16j\n",
      "   3.86557041e-16+3.94023370e-17j ...  6.00000000e+00+8.37867620e-16j\n",
      "  -1.89471288e-15+4.25364090e-16j  6.00000000e+00+4.40033727e-16j]\n",
      " [ 2.72787805e-15+3.78249082e-16j -1.64493442e-15+2.15642266e-15j\n",
      "  -8.05383866e-17-4.21321522e-16j ...  7.00000000e+00-1.28508451e-17j\n",
      "  -2.19197708e-15+4.18119157e-16j -1.65055502e-15+8.19885050e-16j]]\n"
     ]
    }
   ],
   "execution_count": 32
  },
  {
   "cell_type": "markdown",
   "metadata": {},
   "source": [
    "From the above results, we can see that our vectors are very sparse if we take the IDFT\n",
    "\n",
    "## Setting up the dataset for Pytorch"
   ]
  },
  {
   "cell_type": "code",
   "metadata": {
    "ExecuteTime": {
     "end_time": "2025-03-17T10:12:21.395983Z",
     "start_time": "2025-03-17T10:12:21.387900Z"
    }
   },
   "source": [
    "import torch\n",
    "import torch.nn as nn\n",
    "import torch.optim as optim\n",
    "import torch.nn.functional as F\n",
    "from torch.utils.data import TensorDataset, DataLoader\n",
    "\n",
    "from sklearn.model_selection import train_test_split\n",
    "\n",
    "X = np.array([(data.real, data.imag) for data in dense_data]).T\n",
    "Y = np.array([(data.real, data.imag) for data in sparse_data]).T\n",
    "\n",
    "X_tensor = torch.tensor(X,dtype=torch.float)\n",
    "Y_tensor = torch.tensor(Y,dtype=torch.float)\n",
    "dataset = TensorDataset(X_tensor,X_tensor)\n",
    "\n",
    "dataloader = DataLoader(dataset,batch_size = 100,shuffle = True, )\n",
    "print(X_tensor.shape)"
   ],
   "outputs": [
    {
     "name": "stdout",
     "output_type": "stream",
     "text": [
      "torch.Size([1000, 2, 10])\n"
     ]
    }
   ],
   "execution_count": 69
  },
  {
   "cell_type": "markdown",
   "metadata": {},
   "source": [
    "## Setting up the neural network"
   ]
  },
  {
   "cell_type": "code",
   "metadata": {
    "ExecuteTime": {
     "end_time": "2025-03-17T10:13:34.269342Z",
     "start_time": "2025-03-17T10:13:34.262384Z"
    }
   },
   "source": [
    "# class ExponentialComplexLinear(nn.Module):\n",
    "#     def __init__(self, in_features, out_features):\n",
    "#         super(ExponentialComplexLinear, self).__init__()\n",
    "#\n",
    "#         # Trainable phase angles (real-valued), this is where we are training the q-values) in the context of the exercise\n",
    "#         self.phases = nn.Parameter(torch.randn(out_features, in_features) * 0.1)  # Small random initialization\n",
    "#\n",
    "#     def forward(self, x):\n",
    "#         # Compute our matrix\n",
    "#         W = torch.exp(1j * self.phases)  # Enforces |W| = 1\n",
    "#\n",
    "#         # Complex matrix multiplication)\n",
    "#         return torch.matmul(x, W.t())\n",
    "\n",
    "# class ComplexDecoder(nn.Module):\n",
    "#     def __init__(self, encoding_dim, output_dim):\n",
    "#         super(ComplexDecoder, self).__init__()\n",
    "#\n",
    "#         self.layers = nn.Sequential(\n",
    "#             nn.Linear(200,400),\n",
    "#             nn.ReLU(),\n",
    "#             nn.Linear(400,400),\n",
    "#             nn.ReLU(),\n",
    "#             nn.Linear(400,200),\n",
    "#             nn.Sigmoid()\n",
    "#         )\n",
    "#\n",
    "#     def forward(self, x):\n",
    "#         return self.layers(x)\n",
    "\n",
    "\n",
    "class LearnedAutoencoder(nn.Module):\n",
    "    def __init__(self, input_dim, encoding_dim):\n",
    "        super(LearnedAutoencoder, self).__init__()\n",
    "        compression_factor = input_dim / encoding_dim\n",
    "        layer_size_factor = int(encoding_dim * compression_factor / 4)\n",
    "\n",
    "        self.encoder = nn.Sequential(\n",
    "            nn.Linear(input_dim, input_dim),\n",
    "            # nn.Linear(int(input_dim/2), int(input_dim/4)),\n",
    "            nn.Linear(input_dim, encoding_dim),\n",
    "        )\n",
    "\n",
    "\n",
    "        self.decoder = nn.Sequential(\n",
    "            nn.Linear(encoding_dim, input_dim),\n",
    "            # nn.Linear(int(input_dim/2), input_dim),\n",
    "            nn.Linear(input_dim, input_dim),\n",
    "        )\n",
    "\n",
    "    def forward(self, x):\n",
    "        encoder_out = self.encoder(x)\n",
    "        return self.decoder(encoder_out)\n",
    "\n",
    "# class LearnedAutoencoder(nn.Module):\n",
    "#     def __init__(self, input_dim, encoding_dim):\n",
    "#         super(LearnedAutoencoder, self).__init__()\n",
    "#         compression_factor = input_dim / encoding_dim\n",
    "#         layer_size_factor = int(encoding_dim * compression_factor / 4)\n",
    "#\n",
    "#         self.encoder = nn.Sequential(\n",
    "#             nn.Linear(input_dim, 15),\n",
    "#             nn.ReLU(),\n",
    "#             nn.Linear(17, 15),\n",
    "#             nn.ReLU(),\n",
    "#             nn.Linear(15, 12),\n",
    "#             nn.ReLU(),\n",
    "#             nn.Linear(12, 10),\n",
    "#         )\n",
    "#         self.decoder = nn.Sequential(\n",
    "#             nn.Linear(10, 12),\n",
    "#             nn.ReLU(),\n",
    "#             nn.Linear(12, 15),\n",
    "#             nn.ReLU(),\n",
    "#             nn.Linear(15, 17),\n",
    "#             nn.ReLU(),\n",
    "#             nn.Linear(17, input_dim),\n",
    "#             nn.ReLU()\n",
    "#         )\n",
    "#\n",
    "#     def forward(self, x):\n",
    "#         encoder_out = self.encoder(x)\n",
    "#         return self.decoder(encoder_out)\n"
   ],
   "outputs": [],
   "execution_count": 74
  },
  {
   "cell_type": "markdown",
   "metadata": {},
   "source": [
    "## Training the model"
   ]
  },
  {
   "cell_type": "code",
   "metadata": {
    "ExecuteTime": {
     "end_time": "2025-03-17T10:14:37.696538Z",
     "start_time": "2025-03-17T10:14:36.525815Z"
    }
   },
   "source": [
    "# Define the size of our \"measurement\" vector as encoding_dim. This needs to be larger than the sparsity of our matrix\n",
    "\n",
    "# encoding_dim = max_sparsity\n",
    "encoding_dim = 10\n",
    "# Initialize model\n",
    "model = LearnedAutoencoder(vector_size, encoding_dim)\n",
    "optimizer = torch.optim.Adam(model.parameters(), lr=1E-2, weight_decay=1E-6)\n",
    "loss_fn = nn.MSELoss()\n",
    "\n",
    "# def complex_mse_loss(input, target):\n",
    "#     return F.mse_loss(input, target)\n",
    "\n",
    "# Training loop\n",
    "losses = []\n",
    "for epoch in range(50):\n",
    "    for batch in dataloader:\n",
    "        inputs, targets = batch  # Unpack the tuple\n",
    "        optimizer.zero_grad()\n",
    "        output = model(inputs)\n",
    "        loss = loss_fn(output, targets)\n",
    "        loss.backward()\n",
    "        optimizer.step()\n",
    "        losses.append(loss.item())\n",
    "\n",
    "    print(f\"Epoch {epoch+1}, Loss: {loss.item():.6f}\")\n",
    "\n",
    "plt.plot(losses)\n",
    "plt.show()"
   ],
   "outputs": [
    {
     "name": "stdout",
     "output_type": "stream",
     "text": [
      "Epoch 1, Loss: 4.039172\n",
      "Epoch 2, Loss: 2.960976\n",
      "Epoch 3, Loss: 2.123206\n",
      "Epoch 4, Loss: 1.723668\n",
      "Epoch 5, Loss: 1.279506\n",
      "Epoch 6, Loss: 0.875069\n",
      "Epoch 7, Loss: 0.882880\n",
      "Epoch 8, Loss: 0.665596\n",
      "Epoch 9, Loss: 0.492486\n",
      "Epoch 10, Loss: 0.448341\n",
      "Epoch 11, Loss: 0.435646\n",
      "Epoch 12, Loss: 0.477178\n",
      "Epoch 13, Loss: 0.412785\n",
      "Epoch 14, Loss: 0.422901\n",
      "Epoch 15, Loss: 0.404281\n",
      "Epoch 16, Loss: 0.352188\n",
      "Epoch 17, Loss: 0.419862\n",
      "Epoch 18, Loss: 0.407224\n",
      "Epoch 19, Loss: 0.438521\n",
      "Epoch 20, Loss: 0.409083\n",
      "Epoch 21, Loss: 0.283346\n",
      "Epoch 22, Loss: 0.142006\n",
      "Epoch 23, Loss: 0.044531\n",
      "Epoch 24, Loss: 0.018278\n",
      "Epoch 25, Loss: 0.004486\n",
      "Epoch 26, Loss: 0.001116\n",
      "Epoch 27, Loss: 0.000270\n",
      "Epoch 28, Loss: 0.000107\n",
      "Epoch 29, Loss: 0.000068\n",
      "Epoch 30, Loss: 0.000040\n",
      "Epoch 31, Loss: 0.000014\n",
      "Epoch 32, Loss: 0.000006\n",
      "Epoch 33, Loss: 0.000002\n",
      "Epoch 34, Loss: 0.000001\n",
      "Epoch 35, Loss: 0.000000\n",
      "Epoch 36, Loss: 0.000000\n",
      "Epoch 37, Loss: 0.000000\n",
      "Epoch 38, Loss: 0.000000\n",
      "Epoch 39, Loss: 0.000000\n",
      "Epoch 40, Loss: 0.000000\n",
      "Epoch 41, Loss: 0.000000\n",
      "Epoch 42, Loss: 0.000000\n",
      "Epoch 43, Loss: 0.000000\n",
      "Epoch 44, Loss: 0.000000\n",
      "Epoch 45, Loss: 0.000000\n",
      "Epoch 46, Loss: 0.000000\n",
      "Epoch 47, Loss: 0.000000\n",
      "Epoch 48, Loss: 0.000000\n",
      "Epoch 49, Loss: 0.000000\n",
      "Epoch 50, Loss: 0.000000\n"
     ]
    },
    {
     "data": {
      "text/plain": [
       "<Figure size 640x480 with 1 Axes>"
      ],
      "image/png": "[encoded data removed]"
     },
     "metadata": {},
     "output_type": "display_data"
    }
   ],
   "execution_count": 84
  },
  {
   "metadata": {
    "ExecuteTime": {
     "end_time": "2025-03-17T10:14:38.271699Z",
     "start_time": "2025-03-17T10:14:38.261814Z"
    }
   },
   "cell_type": "code",
   "source": "print(output[-1] - targets[-1])\n",
   "outputs": [
    {
     "name": "stdout",
     "output_type": "stream",
     "text": [
      "tensor([[-4.2915e-06,  2.1458e-06, -1.1325e-06,  5.9605e-08,  3.0994e-06,\n",
      "          3.0994e-06,  3.8147e-06, -2.9802e-07, -1.4901e-06,  2.8610e-06],\n",
      "        [ 3.1590e-06, -7.1526e-07, -4.1723e-07, -6.6757e-06,  1.7881e-06,\n",
      "         -2.3888e-07,  2.3842e-07,  6.1989e-06,  2.2650e-06,  2.3842e-06]],\n",
      "       grad_fn=<SubBackward0>)\n"
     ]
    }
   ],
   "execution_count": 85
  },
  {
   "metadata": {
    "ExecuteTime": {
     "end_time": "2025-03-17T10:13:48.732005Z",
     "start_time": "2025-03-17T10:13:48.729370Z"
    }
   },
   "cell_type": "code",
   "source": "",
   "outputs": [],
   "execution_count": null
  },
  {
   "metadata": {},
   "cell_type": "code",
   "outputs": [],
   "execution_count": null,
   "source": ""
  }
 ],
 "metadata": {
  "kernelspec": {
   "display_name": "pytorch_311",
   "language": "python",
   "name": "python3"
  },
  "language_info": {
   "codemirror_mode": {
    "name": "ipython",
    "version": 3
   },
   "file_extension": ".py",
   "mimetype": "text/x-python",
   "name": "python",
   "nbconvert_exporter": "python",
   "pygments_lexer": "ipython3",
   "version": "3.11.11"
  }
 },
 "nbformat": 4,
 "nbformat_minor": 2
}
