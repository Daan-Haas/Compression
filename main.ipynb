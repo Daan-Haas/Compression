{
 "cells": [
  {
   "cell_type": "code",
   "metadata": {
    "ExecuteTime": {
     "end_time": "2025-03-17T08:07:47.878264Z",
     "start_time": "2025-03-17T08:07:47.873774Z"
    }
   },
   "source": [
    "import numpy as np\n",
    "import scipy as sp\n",
    "import matplotlib.pyplot as plt\n",
    "import random\n",
    "import cmath\n",
    "import math"
   ],
   "outputs": [],
   "execution_count": 12
  },
  {
   "cell_type": "markdown",
   "metadata": {},
   "source": [
    "# Define our buildDataSet function here!"
   ]
  },
  {
   "cell_type": "code",
   "metadata": {
    "ExecuteTime": {
     "end_time": "2025-03-17T08:07:48.300119Z",
     "start_time": "2025-03-17T08:07:48.288104Z"
    }
   },
   "source": [
    "def buildDataSet(max_amplitude,min_sparsity,max_sparsity,vector_size,data_set_size):\n",
    "    sparse_data = np.zeros((vector_size,data_set_size)) # Initialize the sparse_data matrix\n",
    "\n",
    "    # Iterate over the columns of the sparse_data matrix to define the data samples\n",
    "    for i in range(data_set_size):\n",
    "        sparsity = random.randint(min_sparsity,max_sparsity)\n",
    "        indices = random.sample(range(vector_size),sparsity)\n",
    "        amps = random.sample(range(max_amplitude),sparsity)\n",
    "        sparse_data[indices,i] = amps\n",
    "    \n",
    "    # Define the DFT matrix and multiply our spare_data vectors with it to find dense data\n",
    "    DFT = sp.linalg.dft(vector_size)/np.sqrt(vector_size)\n",
    "    dense_data = DFT@sparse_data\n",
    "    return dense_data,sparse_data\n"
   ],
   "outputs": [],
   "execution_count": 13
  },
  {
   "cell_type": "markdown",
   "metadata": {},
   "source": [
    "## Build the dataset"
   ]
  },
  {
   "cell_type": "code",
   "metadata": {
    "ExecuteTime": {
     "end_time": "2025-03-17T08:07:48.677128Z",
     "start_time": "2025-03-17T08:07:48.653507Z"
    }
   },
   "source": [
    "max_amplitude = 10\n",
    "min_sparsity = 3\n",
    "max_sparsity = 5\n",
    "vector_size = 10\n",
    "data_set_size = 1000\n",
    "dense_data, sparse_data = buildDataSet(max_amplitude,min_sparsity,max_sparsity,vector_size,data_set_size)\n"
   ],
   "outputs": [],
   "execution_count": 14
  },
  {
   "cell_type": "markdown",
   "metadata": {},
   "source": [
    "## Test the dataset"
   ]
  },
  {
   "cell_type": "code",
   "metadata": {
    "ExecuteTime": {
     "end_time": "2025-03-17T08:07:49.030425Z",
     "start_time": "2025-03-17T08:07:49.024983Z"
    }
   },
   "source": [
    "DFT = sp.linalg.dft(vector_size)/np.sqrt(vector_size)\n",
    "iDFT = DFT.conj().T\n",
    "\n",
    "print(iDFT@dense_data)\n"
   ],
   "outputs": [
    {
     "name": "stdout",
     "output_type": "stream",
     "text": [
      "[[ 8.00000000e+00-1.64024749e-15j -1.53248113e-15-4.67914095e-16j\n",
      "  -8.61188408e-16-8.52042069e-16j ... -7.81725884e-16-4.49267354e-16j\n",
      "  -2.46678650e-17-1.46054203e-15j -1.53401491e-16-1.73392096e-15j]\n",
      " [ 0.00000000e+00-1.54270460e-15j  6.00000000e+00-3.98190435e-16j\n",
      "  -7.90856765e-16-8.13014021e-16j ... -1.16316276e-15-1.14380916e-15j\n",
      "   5.00000000e+00-1.10792753e-15j -1.74549794e-15-6.87359059e-16j]\n",
      " [-1.77635684e-15-1.43457387e-15j  7.00000000e+00-1.05212111e-15j\n",
      "   3.00000000e+00+2.23912196e-16j ... -1.08491108e-15-8.22995781e-16j\n",
      "  -6.24460593e-16+3.24420122e-16j -1.48534811e-15-1.61676426e-15j]\n",
      " ...\n",
      " [ 1.76153492e-15+1.23995749e-15j -2.66453526e-15+1.74086454e-15j\n",
      "   1.00000000e+00-1.65322298e-16j ...  9.46443546e-16-1.54182997e-16j\n",
      "   1.00000000e+00-3.53964274e-16j  8.00000000e+00+3.31905403e-16j]\n",
      " [ 6.00000000e+00+8.91634006e-16j -2.22044605e-15+1.06440462e-15j\n",
      "  -1.55431223e-15+7.55327254e-16j ... -1.10383501e-16-2.73061357e-16j\n",
      "   3.00000000e+00+8.38985457e-16j -4.79260162e-16+6.35297877e-16j]\n",
      " [ 2.00000000e+00-2.97791701e-16j -8.88178420e-16+7.17183620e-16j\n",
      "  -2.46762453e-15+9.25722935e-16j ... -1.69184446e-15+3.79969001e-16j\n",
      "   0.00000000e+00+1.58249088e-15j -1.64208282e-15-2.27025044e-16j]]\n"
     ]
    }
   ],
   "execution_count": 15
  },
  {
   "cell_type": "markdown",
   "metadata": {},
   "source": [
    "From the above results, we can see that our vectors are very sparse if we take the IDFT\n",
    "\n",
    "## Setting up the dataset for Pytorch"
   ]
  },
  {
   "cell_type": "code",
   "metadata": {
    "ExecuteTime": {
     "end_time": "2025-03-17T08:07:49.542614Z",
     "start_time": "2025-03-17T08:07:49.532396Z"
    }
   },
   "source": [
    "import torch\n",
    "import torch.nn as nn\n",
    "import torch.optim as optim\n",
    "import torch.nn.functional as F\n",
    "from torch.utils.data import TensorDataset, DataLoader\n",
    "\n",
    "from sklearn.model_selection import train_test_split\n",
    "\n",
    "X = np.concatenate((dense_data.real, dense_data.imag), axis=0).T\n",
    "Y = np.concatenate((sparse_data.real, sparse_data.imag), axis=0).T\n",
    "\n",
    "X_tensor = torch.tensor(X,dtype=torch.float)\n",
    "Y_tensor = torch.tensor(Y,dtype=torch.float)\n",
    "dataset = TensorDataset(X_tensor,X_tensor)\n",
    "\n",
    "dataloader = DataLoader(dataset,batch_size = 100,shuffle = True)"
   ],
   "outputs": [],
   "execution_count": 16
  },
  {
   "cell_type": "markdown",
   "metadata": {},
   "source": [
    "## Setting up the neural network"
   ]
  },
  {
   "cell_type": "code",
   "metadata": {
    "ExecuteTime": {
     "end_time": "2025-03-17T08:07:50.152789Z",
     "start_time": "2025-03-17T08:07:50.138680Z"
    }
   },
   "source": [
    "# class ExponentialComplexLinear(nn.Module):\n",
    "#     def __init__(self, in_features, out_features):\n",
    "#         super(ExponentialComplexLinear, self).__init__()\n",
    "#\n",
    "#         # Trainable phase angles (real-valued), this is where we are training the q-values in the context of the exercise\n",
    "#         self.phases = nn.Parameter(torch.randn(out_features, in_features) * 0.1)  # Small random initialization\n",
    "#\n",
    "#     def forward(self, x):\n",
    "#         # Compute our matrix\n",
    "#         W = torch.exp(1j * self.phases)  # Enforces |W| = 1\n",
    "#\n",
    "#         # Complex matrix multiplication\n",
    "#         return torch.matmul(x, W.t())\n",
    "\n",
    "# class ComplexDecoder(nn.Module):\n",
    "#     def __init__(self, encoding_dim, output_dim):\n",
    "#         super(ComplexDecoder, self).__init__()\n",
    "#\n",
    "#         self.layers = nn.Sequential(\n",
    "#             nn.Linear(200,400),\n",
    "#             nn.ReLU(),\n",
    "#             nn.Linear(400,400),\n",
    "#             nn.ReLU(),\n",
    "#             nn.Linear(400,200),\n",
    "#             nn.Sigmoid()\n",
    "#         )\n",
    "#\n",
    "#     def forward(self, x):\n",
    "#         return self.layers(x)\n",
    "\n",
    "\n",
    "class LearnedAutoencoder(nn.Module):\n",
    "    def __init__(self, input_dim, encoding_dim):\n",
    "        super(LearnedAutoencoder, self).__init__()\n",
    "        compression_factor = input_dim / encoding_dim\n",
    "        layer_size_factor = int(encoding_dim * compression_factor / 4)\n",
    "\n",
    "        self.encoder = nn.Sequential(\n",
    "            nn.Linear(input_dim, input_dim),\n",
    "            nn.ReLU(),\n",
    "        )\n",
    "        self.decoder = nn.Sequential(\n",
    "            nn.Linear(input_dim, input_dim),\n",
    "            nn.ReLU(),\n",
    "        )\n",
    "\n",
    "    def forward(self, x):\n",
    "        encoder_out = self.encoder(x)\n",
    "        return self.decoder(encoder_out)\n",
    "\n"
   ],
   "outputs": [],
   "execution_count": 17
  },
  {
   "cell_type": "markdown",
   "metadata": {},
   "source": [
    "## Training the model"
   ]
  },
  {
   "cell_type": "code",
   "metadata": {
    "ExecuteTime": {
     "end_time": "2025-03-17T08:07:52.867114Z",
     "start_time": "2025-03-17T08:07:51.014097Z"
    }
   },
   "source": [
    "# Define the size of our \"measurement\" vector as encoding_dim. This needs to be larger than the sparsity of our matrix\n",
    "\n",
    "encoding_dim = max_sparsity + 1\n",
    "encoding_dim = 10\n",
    "# Initialize model\n",
    "model = LearnedAutoencoder(2*vector_size, encoding_dim)\n",
    "optimizer = torch.optim.Adam(model.parameters(), lr=1E-3, weight_decay=1E-2)\n",
    "loss_fn = nn.MSELoss()\n",
    "\n",
    "# def complex_mse_loss(input, target):\n",
    "#     return F.mse_loss(input, target)\n",
    "\n",
    "# Training loop\n",
    "losses = []\n",
    "for epoch in range(100):\n",
    "    for batch in dataloader:\n",
    "        inputs, targets = batch  # Unpack the tuple\n",
    "        optimizer.zero_grad()\n",
    "        output = model(inputs)\n",
    "        loss = loss_fn(output, targets)\n",
    "        loss.backward()\n",
    "        optimizer.step()\n",
    "        losses.append(loss.item())\n",
    "\n",
    "    print(f\"Epoch {epoch+1}, Loss: {loss.item():.6f}\")\n",
    "\n",
    "plt.plot(losses)\n",
    "plt.show()"
   ],
   "outputs": [
    {
     "name": "stdout",
     "output_type": "stream",
     "text": [
      "Epoch 1, Loss: 5.853198\n",
      "Epoch 2, Loss: 4.951154\n",
      "Epoch 3, Loss: 5.852416\n",
      "Epoch 4, Loss: 5.595560\n",
      "Epoch 5, Loss: 5.530644\n",
      "Epoch 6, Loss: 5.233953\n",
      "Epoch 7, Loss: 4.766614\n",
      "Epoch 8, Loss: 4.468463\n",
      "Epoch 9, Loss: 4.464242\n",
      "Epoch 10, Loss: 4.274326\n",
      "Epoch 11, Loss: 4.005041\n",
      "Epoch 12, Loss: 3.964439\n",
      "Epoch 13, Loss: 3.196411\n",
      "Epoch 14, Loss: 3.566053\n",
      "Epoch 15, Loss: 3.147988\n",
      "Epoch 16, Loss: 3.216093\n",
      "Epoch 17, Loss: 2.592703\n",
      "Epoch 18, Loss: 2.612612\n",
      "Epoch 19, Loss: 2.539744\n",
      "Epoch 20, Loss: 2.224935\n",
      "Epoch 21, Loss: 2.435376\n",
      "Epoch 22, Loss: 2.403745\n",
      "Epoch 23, Loss: 2.229089\n",
      "Epoch 24, Loss: 2.321243\n",
      "Epoch 25, Loss: 2.465386\n",
      "Epoch 26, Loss: 2.367078\n",
      "Epoch 27, Loss: 2.235144\n",
      "Epoch 28, Loss: 2.086623\n",
      "Epoch 29, Loss: 2.294977\n",
      "Epoch 30, Loss: 2.271754\n",
      "Epoch 31, Loss: 2.138999\n",
      "Epoch 32, Loss: 2.213861\n",
      "Epoch 33, Loss: 2.095215\n",
      "Epoch 34, Loss: 2.030188\n",
      "Epoch 35, Loss: 2.230458\n",
      "Epoch 36, Loss: 2.102549\n",
      "Epoch 37, Loss: 1.995541\n",
      "Epoch 38, Loss: 1.951446\n",
      "Epoch 39, Loss: 2.050383\n",
      "Epoch 40, Loss: 1.975440\n",
      "Epoch 41, Loss: 2.173454\n",
      "Epoch 42, Loss: 2.230669\n",
      "Epoch 43, Loss: 1.977529\n",
      "Epoch 44, Loss: 1.684931\n",
      "Epoch 45, Loss: 2.093616\n",
      "Epoch 46, Loss: 2.005499\n",
      "Epoch 47, Loss: 1.974964\n",
      "Epoch 48, Loss: 2.277981\n",
      "Epoch 49, Loss: 1.854426\n",
      "Epoch 50, Loss: 2.018606\n",
      "Epoch 51, Loss: 2.107135\n",
      "Epoch 52, Loss: 2.222830\n",
      "Epoch 53, Loss: 2.111404\n",
      "Epoch 54, Loss: 2.009163\n",
      "Epoch 55, Loss: 2.060235\n",
      "Epoch 56, Loss: 2.158935\n",
      "Epoch 57, Loss: 2.090351\n",
      "Epoch 58, Loss: 2.019729\n",
      "Epoch 59, Loss: 2.224100\n",
      "Epoch 60, Loss: 1.956586\n",
      "Epoch 61, Loss: 2.052475\n",
      "Epoch 62, Loss: 1.985697\n",
      "Epoch 63, Loss: 2.025324\n",
      "Epoch 64, Loss: 1.979530\n",
      "Epoch 65, Loss: 1.992119\n",
      "Epoch 66, Loss: 2.023495\n",
      "Epoch 67, Loss: 1.984171\n",
      "Epoch 68, Loss: 1.916751\n",
      "Epoch 69, Loss: 2.086243\n",
      "Epoch 70, Loss: 2.015832\n",
      "Epoch 71, Loss: 2.170165\n",
      "Epoch 72, Loss: 2.006677\n",
      "Epoch 73, Loss: 2.048139\n",
      "Epoch 74, Loss: 1.944386\n",
      "Epoch 75, Loss: 1.781636\n",
      "Epoch 76, Loss: 2.006419\n",
      "Epoch 77, Loss: 2.119216\n",
      "Epoch 78, Loss: 2.050826\n",
      "Epoch 79, Loss: 1.940446\n",
      "Epoch 80, Loss: 1.819156\n",
      "Epoch 81, Loss: 1.776224\n",
      "Epoch 82, Loss: 1.835938\n",
      "Epoch 83, Loss: 1.929938\n",
      "Epoch 84, Loss: 1.869698\n",
      "Epoch 85, Loss: 1.835848\n",
      "Epoch 86, Loss: 1.960395\n",
      "Epoch 87, Loss: 2.113494\n",
      "Epoch 88, Loss: 2.028809\n",
      "Epoch 89, Loss: 2.083757\n",
      "Epoch 90, Loss: 2.044539\n",
      "Epoch 91, Loss: 1.976596\n",
      "Epoch 92, Loss: 2.107159\n",
      "Epoch 93, Loss: 1.849675\n",
      "Epoch 94, Loss: 2.086756\n",
      "Epoch 95, Loss: 1.952351\n",
      "Epoch 96, Loss: 2.058510\n",
      "Epoch 97, Loss: 1.950691\n",
      "Epoch 98, Loss: 1.985215\n",
      "Epoch 99, Loss: 1.854495\n",
      "Epoch 100, Loss: 2.175529\n"
     ]
    },
    {
     "data": {
      "text/plain": [
       "<Figure size 640x480 with 1 Axes>"
      ],
      "image/png": "[encoded data removed]"
     },
     "metadata": {},
     "output_type": "display_data"
    }
   ],
   "execution_count": 18
  },
  {
   "metadata": {
    "ExecuteTime": {
     "end_time": "2025-03-17T08:15:03.977886Z",
     "start_time": "2025-03-17T08:15:03.970237Z"
    }
   },
   "cell_type": "code",
   "source": "print(output[-1] - X_tensor[-1])\n",
   "outputs": [
    {
     "name": "stdout",
     "output_type": "stream",
     "text": [
      "tensor([ 8.6368e-02,  3.0572e+00,  3.6685e+00, -4.4238e+00,  6.9206e-02,\n",
      "         5.1099e+00,  6.9206e-02, -4.4238e+00,  3.5737e+00,  3.0454e+00,\n",
      "         0.0000e+00, -3.4628e-01,  7.4522e+00, -1.6186e+00,  2.2952e+00,\n",
      "         1.5878e-15, -8.1449e-01,  3.0840e+00, -1.9904e+00,  1.4160e+00],\n",
      "       grad_fn=<SubBackward0>)\n"
     ]
    }
   ],
   "execution_count": 20
  },
  {
   "metadata": {},
   "cell_type": "code",
   "outputs": [],
   "execution_count": null,
   "source": ""
  }
 ],
 "metadata": {
  "kernelspec": {
   "display_name": "pytorch_311",
   "language": "python",
   "name": "python3"
  },
  "language_info": {
   "codemirror_mode": {
    "name": "ipython",
    "version": 3
   },
   "file_extension": ".py",
   "mimetype": "text/x-python",
   "name": "python",
   "nbconvert_exporter": "python",
   "pygments_lexer": "ipython3",
   "version": "3.11.11"
  }
 },
 "nbformat": 4,
 "nbformat_minor": 2
}
